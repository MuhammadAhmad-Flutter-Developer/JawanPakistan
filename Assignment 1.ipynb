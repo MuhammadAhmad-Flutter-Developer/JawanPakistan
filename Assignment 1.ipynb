{
 "cells": [
  {
   "cell_type": "markdown",
   "id": "1068ca79",
   "metadata": {
    "heading_collapsed": true
   },
   "source": [
    "# Write a Python program to print the following string in a specific format (see the output)."
   ]
  },
  {
   "cell_type": "code",
   "execution_count": 3,
   "id": "37816380",
   "metadata": {
    "ExecuteTime": {
     "end_time": "2022-01-01T14:50:54.314805Z",
     "start_time": "2022-01-01T14:50:54.308220Z"
    },
    "hidden": true
   },
   "outputs": [
    {
     "name": "stdout",
     "output_type": "stream",
     "text": [
      "Twinkle, twinkle, little star, \n",
      "\tHow I wonder what you are! \n",
      "\t\tUp above the world so high, \n",
      "\t\tLike a diamond in the sky. \n",
      "Twinkle, twinkle, little star, \n",
      "\tHow I wonder what you are!\n"
     ]
    }
   ],
   "source": [
    "print(\"Twinkle, twinkle, little star, \\n\\tHow I wonder what you are! \\n\\t\\tUp above the world so high, \\n\\t\\tLike a diamond in the sky. \\nTwinkle, twinkle, little star, \\n\\tHow I wonder what you are!\")"
   ]
  },
  {
   "cell_type": "markdown",
   "id": "cb876a05",
   "metadata": {
    "heading_collapsed": true
   },
   "source": [
    "# Write a Python program to get the Python version you are using."
   ]
  },
  {
   "cell_type": "code",
   "execution_count": 2,
   "id": "29223108",
   "metadata": {
    "ExecuteTime": {
     "end_time": "2022-01-01T14:48:11.014282Z",
     "start_time": "2022-01-01T14:48:10.999681Z"
    },
    "hidden": true,
    "scrolled": true
   },
   "outputs": [
    {
     "name": "stdout",
     "output_type": "stream",
     "text": [
      "3.8.8\n"
     ]
    }
   ],
   "source": [
    "import platform\n",
    "print(platform.python_version())\n"
   ]
  },
  {
   "cell_type": "markdown",
   "id": "63b23f4f",
   "metadata": {
    "heading_collapsed": true
   },
   "source": [
    "# Write a Python program to display the current date and time"
   ]
  },
  {
   "cell_type": "code",
   "execution_count": 5,
   "id": "ee89c3d5",
   "metadata": {
    "ExecuteTime": {
     "end_time": "2022-01-01T14:55:22.167978Z",
     "start_time": "2022-01-01T14:55:22.153786Z"
    },
    "hidden": true
   },
   "outputs": [
    {
     "name": "stdout",
     "output_type": "stream",
     "text": [
      "2022-01-01 19:55:22.155782\n"
     ]
    }
   ],
   "source": [
    "import datetime\n",
    "print(datetime.datetime.now())"
   ]
  },
  {
   "cell_type": "markdown",
   "id": "acafc770",
   "metadata": {
    "heading_collapsed": true
   },
   "source": [
    "# Write a Python program which accepts the radius of a circle from the user and compute the area."
   ]
  },
  {
   "cell_type": "code",
   "execution_count": 7,
   "id": "d4cbaa9a",
   "metadata": {
    "ExecuteTime": {
     "end_time": "2022-01-01T14:57:13.339341Z",
     "start_time": "2022-01-01T14:57:11.901863Z"
    },
    "hidden": true,
    "scrolled": true
   },
   "outputs": [
    {
     "name": "stdout",
     "output_type": "stream",
     "text": [
      "Input the radius of the circle : 2\n",
      "The area of the circle is: 12.566370614359172\n"
     ]
    }
   ],
   "source": [
    "from math import pi\n",
    "r = float(input (\"Input the radius of the circle : \"))\n",
    "print (\"The area of the circle is: \" + str(pi * r**2))"
   ]
  },
  {
   "cell_type": "markdown",
   "id": "117ff2b3",
   "metadata": {
    "heading_collapsed": true
   },
   "source": [
    "# Write a Python program which accepts the user's first and last name and print them in reverse order with a space between them."
   ]
  },
  {
   "cell_type": "code",
   "execution_count": 8,
   "id": "04c04701",
   "metadata": {
    "ExecuteTime": {
     "end_time": "2022-01-01T14:58:59.668158Z",
     "start_time": "2022-01-01T14:58:45.452108Z"
    },
    "hidden": true,
    "scrolled": true
   },
   "outputs": [
    {
     "name": "stdout",
     "output_type": "stream",
     "text": [
      "Input your First Name : bashir\n",
      "Input your Last Name : ahmad\n",
      "ahmad bashir\n"
     ]
    }
   ],
   "source": [
    "fname = input(\"Input your First Name : \")\n",
    "lname = input(\"Input your Last Name : \")\n",
    "print (lname + \" \" + fname)"
   ]
  },
  {
   "cell_type": "markdown",
   "id": "8dd09770",
   "metadata": {
    "heading_collapsed": true
   },
   "source": [
    "# write a python program which takes two inputs from user and print them addition."
   ]
  },
  {
   "cell_type": "code",
   "execution_count": 11,
   "id": "3c9e58dc",
   "metadata": {
    "ExecuteTime": {
     "end_time": "2022-01-01T15:06:29.735344Z",
     "start_time": "2022-01-01T15:06:26.436147Z"
    },
    "hidden": true
   },
   "outputs": [
    {
     "name": "stdout",
     "output_type": "stream",
     "text": [
      "Enter First Number : 25\n",
      "Enter Second Number : 2\n",
      "27\n"
     ]
    }
   ],
   "source": [
    "finput =int(input(\"Enter First Number : \"))    #as 25\n",
    "sinput =int(input(\"Enter Second Number : \"))   # as 2\n",
    "print(finput+sinput)                           # ans 27"
   ]
  }
 ],
 "metadata": {
  "kernelspec": {
   "display_name": "Python 3",
   "language": "python",
   "name": "python3"
  },
  "language_info": {
   "codemirror_mode": {
    "name": "ipython",
    "version": 3
   },
   "file_extension": ".py",
   "mimetype": "text/x-python",
   "name": "python",
   "nbconvert_exporter": "python",
   "pygments_lexer": "ipython3",
   "version": "3.8.8"
  }
 },
 "nbformat": 4,
 "nbformat_minor": 5
}
